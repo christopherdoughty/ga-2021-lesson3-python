{
 "cells": [
  {
   "cell_type": "markdown",
   "metadata": {},
   "source": [
    "<img src=\"https://ga-dash.s3.amazonaws.com/production/assets/logo-9f88ae6c9c3871690e33280fcf557f33.png\" style=\"float: left; margin: 10px;\"> \n",
    "\n",
    "# Python Intro 2: Control flow\n",
    "\n",
    "_Authors: Kiefer Katovich (San Francisco), Dave Yerrington (San Francisco), Joseph Nelson (Washington, D.C.), Sam Stack (Washington, D.C.), Ryan Dunlap (San Francisco), Jeff Hale (Washington, D.C.)_\n",
    "\n",
    "---"
   ]
  },
  {
   "cell_type": "markdown",
   "metadata": {},
   "source": [
    "\n",
    "### Learning Objectives\n",
    " \n",
    "####  Python Iterations, Control Flow, and Functions\n",
    "**After this lesson, you will be able to:**\n",
    "- Understand `Python` control flow and conditional programming.  \n",
    "- Implement `for` and `while` loops to iterate through data structures.\n",
    "- Apply `if… else` conditional statements.\n",
    "- Create functions to perform repetitive actions.\n",
    "\n",
    "---"
   ]
  },
  {
   "cell_type": "markdown",
   "metadata": {},
   "source": [
    "<a id='py_i'></a>\n",
    "## Part 2: Python Control Flow and Functions\n",
    "\n",
    "You've seen how data is represented. Now, let's look at common ways of interacting with it.\n",
    "\n",
    "- `if… elif… else` statements.\n",
    "- `for` loops.\n",
    "- Functions!"
   ]
  },
  {
   "cell_type": "markdown",
   "metadata": {},
   "source": [
    "<a id='if_else_statements'></a>\n",
    "\n",
    "# `if… else` Statements\n",
    "\n",
    "---\n",
    "\n",
    "In Python, **indentation matters**! This is especially true when we look at the control structures in this lesson.\n",
    "\n",
    "A block of indented code is only sometimes run. \n",
    "\n",
    "A condition in the line preceding the indented block that determines whether the indented code is run or skipped.\n",
    "\n",
    "#### `if` Statement\n",
    "\n",
    "The simplest example of a control structure is the `if` statement. It starts with `if`, followed by something that evaluates to `True` or `False`.\n",
    "\n",
    "The syntax for _if_ statements is:\n",
    "    \n",
    "    if <expression>:\n",
    "        Run these lines if condition is True.\n",
    "        These lines are indented.\n",
    "\n",
    "    Unindented things are outside the if block. They always happen."
   ]
  },
  {
   "cell_type": "code",
   "execution_count": 1,
   "metadata": {},
   "outputs": [],
   "source": [
    "x = 20"
   ]
  },
  {
   "cell_type": "code",
   "execution_count": 2,
   "metadata": {},
   "outputs": [
    {
     "name": "stdout",
     "output_type": "stream",
     "text": [
      "20 is less than 30\n"
     ]
    }
   ],
   "source": [
    "if x < 30:\n",
    "    print(f\"{x} is less than 30\")"
   ]
  },
  {
   "cell_type": "code",
   "execution_count": 3,
   "metadata": {},
   "outputs": [],
   "source": [
    "x = 40"
   ]
  },
  {
   "cell_type": "code",
   "execution_count": 5,
   "metadata": {},
   "outputs": [
    {
     "name": "stdout",
     "output_type": "stream",
     "text": [
      "40 is greater than 30\n"
     ]
    }
   ],
   "source": [
    "if x < 30:\n",
    "    print(f\"{x} is less than 30\")\n",
    "else:\n",
    "    print(f\"{x} is greater than 30\")"
   ]
  },
  {
   "cell_type": "markdown",
   "metadata": {},
   "source": [
    "#### Comparison Operators\n",
    "Reminder: the following are comparison operators that allow a statement to be evaluated to True or False:\n",
    "\n",
    "    < Less than\n",
    "    > Greater than\n",
    "    <= Less than or equal to\n",
    "    >= Greater than or equal to\n",
    "    == Equal to\n",
    "    != Not Equal to"
   ]
  },
  {
   "cell_type": "markdown",
   "metadata": {},
   "source": [
    "#### Logical Operators  \n",
    "\n",
    "Reminder: the logical operators are: \n",
    "\n",
    "    `and` \n",
    "    `or`\n",
    "    `not`\n",
    "\n",
    "What if we need to check multiple things that must all be True?\n",
    "` To make a pb&j sandwich, we need peanut butter, jelly and bread.`"
   ]
  },
  {
   "cell_type": "code",
   "execution_count": 10,
   "metadata": {},
   "outputs": [],
   "source": [
    "peanut_butter = True\n",
    "jelly = True\n",
    "bread = True"
   ]
  },
  {
   "cell_type": "code",
   "execution_count": 11,
   "metadata": {},
   "outputs": [
    {
     "name": "stdout",
     "output_type": "stream",
     "text": [
      "make a pb&j sandwich\n",
      "I am not part of the if statement\n"
     ]
    }
   ],
   "source": [
    "if peanut_butter and jelly and bread:\n",
    "    print('make a pb&j sandwich')\n",
    "\n",
    "print(\"I am not part of the if statement\")"
   ]
  },
  {
   "cell_type": "markdown",
   "metadata": {},
   "source": [
    "Or, what if we check multiple things and only one thing needs to be True?\n",
    "\n",
    "To make a fruit salad, we only need oranges, _or_ apples, _or_ strawberries."
   ]
  },
  {
   "cell_type": "code",
   "execution_count": null,
   "metadata": {
    "ExecuteTime": {
     "end_time": "2020-01-13T03:20:21.607463Z",
     "start_time": "2020-01-13T03:20:21.602475Z"
    }
   },
   "outputs": [],
   "source": []
  },
  {
   "cell_type": "code",
   "execution_count": null,
   "metadata": {
    "ExecuteTime": {
     "end_time": "2020-01-13T03:20:21.607463Z",
     "start_time": "2020-01-13T03:20:21.602475Z"
    }
   },
   "outputs": [],
   "source": []
  },
  {
   "cell_type": "markdown",
   "metadata": {},
   "source": [
    "Note how `else` is at the same indentation level as the `if` statement, followed by a colon, followed by a code block. "
   ]
  },
  {
   "cell_type": "markdown",
   "metadata": {},
   "source": [
    "#### `if` ... `elif` ... `else`\n",
    "\n",
    "You might want to run one specific code block out of several. \n",
    "\n",
    "Perhaps we want do one of several different things depending upon a variable's value.\n",
    "\n",
    "`elif` stands for _else if_. They go on lines after the initial `if` statement and before an (optional) `else`. "
   ]
  },
  {
   "cell_type": "code",
   "execution_count": 15,
   "metadata": {},
   "outputs": [],
   "source": [
    "health = 40"
   ]
  },
  {
   "cell_type": "code",
   "execution_count": 16,
   "metadata": {},
   "outputs": [
    {
     "name": "stdout",
     "output_type": "stream",
     "text": [
      "uh, you need an ER\n"
     ]
    }
   ],
   "source": [
    "if health > 70:\n",
    "    print(\"you are healthy\")\n",
    "elif health > 40:\n",
    "    print(\"you are pretty healthy\")\n",
    "else:\n",
    "    print(\"uh, you need an ER\")"
   ]
  },
  {
   "cell_type": "markdown",
   "metadata": {},
   "source": []
  },
  {
   "cell_type": "markdown",
   "metadata": {},
   "source": [
    "![](./assets/if-flow.png)"
   ]
  },
  {
   "cell_type": "markdown",
   "metadata": {},
   "source": [
    "### Exercises \n",
    "\n",
    "#### 1. Suitcase\n",
    "\n",
    "Write an `if… else` statement to check whether  a suitcase weighs more than 50 pounds. If it weights over 50 pounds print \"Too heavy\". If <= 50 pounds print \"okay\"."
   ]
  },
  {
   "cell_type": "code",
   "execution_count": 21,
   "metadata": {},
   "outputs": [],
   "source": [
    "suitcase = 60"
   ]
  },
  {
   "cell_type": "code",
   "execution_count": 22,
   "metadata": {},
   "outputs": [
    {
     "name": "stdout",
     "output_type": "stream",
     "text": [
      "too heavy\n"
     ]
    }
   ],
   "source": [
    "if suitcase > 50:\n",
    "    print(\"too heavy\")\n",
    "else:\n",
    "    print(\"okay\")"
   ]
  },
  {
   "cell_type": "code",
   "execution_count": 24,
   "metadata": {},
   "outputs": [
    {
     "name": "stdout",
     "output_type": "stream",
     "text": [
      "too heavy\n"
     ]
    }
   ],
   "source": [
    "if suitcase > 50:\n",
    "    print(\"too heavy\")\n",
    "elif suitcase <= 50:\n",
    "    print(\"okay\")\n",
    "else:\n",
    "    print(\"too light\")"
   ]
  },
  {
   "cell_type": "markdown",
   "metadata": {},
   "source": [
    "#### 2. Wild Wild Weather\n",
    "\n",
    "Print the following recommendations based on the weather conditions, in a single if statement:\n",
    "\n",
    "1. The temperature is higher than 60 degrees and it is raining: Bring an umbrella. \n",
    "2. The temperature is lower than or equal to 60 degrees and it is raining: Bring an umbrella and a jacket. \n",
    "3. The temperature is higher than 60 degrees and the sun is shining: Wear a T-shirt. \n",
    "4. The temperature is lower than or equal to 60 degrees and the sun is shining: Bring a jacket."
   ]
  },
  {
   "cell_type": "code",
   "execution_count": 36,
   "metadata": {},
   "outputs": [],
   "source": [
    "temperature = 65\n",
    "rain = True"
   ]
  },
  {
   "cell_type": "code",
   "execution_count": 37,
   "metadata": {},
   "outputs": [
    {
     "name": "stdout",
     "output_type": "stream",
     "text": [
      "Bring an umbrella\n"
     ]
    }
   ],
   "source": [
    "if temperature > 60 and rain:\n",
    "    print(\"Bring an umbrella\")\n",
    "elif temperature <= 60 and rain:\n",
    "    print(\"Bring an umbrella and a jacket\")\n",
    "elif temperature > 60 and not rain:\n",
    "    print(\"Wear a T-shirt\")\n",
    "else:\n",
    "    print(\"Bring a jacket\")"
   ]
  },
  {
   "cell_type": "markdown",
   "metadata": {},
   "source": [
    "---\n",
    "<a id='for_loops'></a>\n",
    "# `for` Loops\n",
    "\n",
    "One of the primary purposes of using a programming language is to automate repetitive tasks. Python's `for` loop can help us.\n",
    "\n",
    "The `for` loop allows you to perform a task repeatedly on every element within an object, such as every name in a list.\n",
    "\n",
    "Let's see how the pseudocode works:\n",
    "\n",
    "```\n",
    "    For each individual object in the list\n",
    "        - perform task_A on the object.\n",
    "        - then move to next object in the list.\n",
    "```\n",
    "\n",
    "In Python, indentation matters ☝️"
   ]
  },
  {
   "cell_type": "code",
   "execution_count": 27,
   "metadata": {
    "ExecuteTime": {
     "end_time": "2020-01-13T03:26:43.238458Z",
     "start_time": "2020-01-13T03:26:43.228486Z"
    }
   },
   "outputs": [],
   "source": [
    "visible_colors = [\"red\", \"orange\", \"yellow\", \"green\", \"blue\", \"violet\"]"
   ]
  },
  {
   "cell_type": "markdown",
   "metadata": {},
   "source": [
    "#### Print each item on its own line."
   ]
  },
  {
   "cell_type": "code",
   "execution_count": null,
   "metadata": {},
   "outputs": [],
   "source": []
  },
  {
   "cell_type": "markdown",
   "metadata": {},
   "source": [
    "The process of cycling through a list (or other iterable) item by item is called _iterating_. \n",
    "\n",
    "We can combine `if... else` statements and `for` loops:"
   ]
  },
  {
   "cell_type": "markdown",
   "metadata": {},
   "source": [
    "Make a list of 5 names for the class."
   ]
  },
  {
   "cell_type": "code",
   "execution_count": null,
   "metadata": {},
   "outputs": [],
   "source": []
  },
  {
   "cell_type": "code",
   "execution_count": null,
   "metadata": {
    "ExecuteTime": {
     "end_time": "2020-01-13T03:26:58.686122Z",
     "start_time": "2020-01-13T03:26:58.680138Z"
    }
   },
   "outputs": [],
   "source": []
  },
  {
   "cell_type": "markdown",
   "metadata": {},
   "source": [
    "You can also loop through characters in a string:"
   ]
  },
  {
   "cell_type": "code",
   "execution_count": 33,
   "metadata": {
    "ExecuteTime": {
     "end_time": "2020-01-13T03:27:03.670783Z",
     "start_time": "2020-01-13T03:27:03.664800Z"
    }
   },
   "outputs": [],
   "source": [
    "my_string = \"Hello, world!\""
   ]
  },
  {
   "cell_type": "code",
   "execution_count": null,
   "metadata": {
    "ExecuteTime": {
     "end_time": "2020-01-13T03:27:03.670783Z",
     "start_time": "2020-01-13T03:27:03.664800Z"
    }
   },
   "outputs": [],
   "source": []
  },
  {
   "cell_type": "markdown",
   "metadata": {},
   "source": [
    "#### SLACK: Iterate through the following list of animals with a for loop and print each one in all CAPS."
   ]
  },
  {
   "cell_type": "code",
   "execution_count": 36,
   "metadata": {},
   "outputs": [],
   "source": [
    "animals = ['duck', 'rat', 'boar', 'slug', 'mammoth', 'gazelle']"
   ]
  },
  {
   "cell_type": "code",
   "execution_count": null,
   "metadata": {},
   "outputs": [],
   "source": []
  },
  {
   "cell_type": "markdown",
   "metadata": {},
   "source": [
    "## range\n",
    "\n",
    "Make a list of integers with `range`."
   ]
  },
  {
   "cell_type": "code",
   "execution_count": null,
   "metadata": {},
   "outputs": [],
   "source": []
  },
  {
   "cell_type": "code",
   "execution_count": null,
   "metadata": {},
   "outputs": [],
   "source": []
  },
  {
   "cell_type": "markdown",
   "metadata": {},
   "source": [
    "We need to pass the range object to a list constructor or use it in a for loop to make it useful."
   ]
  },
  {
   "cell_type": "code",
   "execution_count": null,
   "metadata": {},
   "outputs": [],
   "source": []
  },
  {
   "cell_type": "code",
   "execution_count": null,
   "metadata": {},
   "outputs": [],
   "source": []
  },
  {
   "cell_type": "markdown",
   "metadata": {},
   "source": [
    "The default starting value is 0, but if you pass two numbers to range the first is the starting value and the second is the stopping value. The stopping value is not inclusive."
   ]
  },
  {
   "cell_type": "code",
   "execution_count": null,
   "metadata": {},
   "outputs": [],
   "source": []
  },
  {
   "cell_type": "markdown",
   "metadata": {},
   "source": [
    "Pass 3 integers if you want to skip values. The third value passed is the skip value."
   ]
  },
  {
   "cell_type": "code",
   "execution_count": null,
   "metadata": {},
   "outputs": [],
   "source": []
  },
  {
   "cell_type": "markdown",
   "metadata": {},
   "source": [
    "Using `range()` can be helpful in many scenarios. 😀"
   ]
  },
  {
   "cell_type": "markdown",
   "metadata": {},
   "source": [
    "## For loop exercises\n",
    "\n",
    "#### For the Love of Python"
   ]
  },
  {
   "cell_type": "markdown",
   "metadata": {},
   "source": [
    "#### **Slack**: Write a for loop that uses range to print the even numbers between 1 to 50, cubed. \n"
   ]
  },
  {
   "cell_type": "code",
   "execution_count": null,
   "metadata": {},
   "outputs": [],
   "source": []
  },
  {
   "cell_type": "code",
   "execution_count": 47,
   "metadata": {
    "collapsed": true,
    "jupyter": {
     "outputs_hidden": true
    }
   },
   "outputs": [
    {
     "name": "stdout",
     "output_type": "stream",
     "text": [
      "8\n",
      "64\n",
      "216\n",
      "512\n",
      "1000\n",
      "1728\n",
      "2744\n",
      "4096\n",
      "5832\n",
      "8000\n",
      "10648\n",
      "13824\n",
      "17576\n",
      "21952\n",
      "27000\n",
      "32768\n",
      "39304\n",
      "46656\n",
      "54872\n",
      "64000\n",
      "74088\n",
      "85184\n",
      "97336\n",
      "110592\n",
      "125000\n"
     ]
    }
   ],
   "source": [
    "for i in range(2, 51, 2):\n",
    "    print(i**3)"
   ]
  },
  {
   "cell_type": "code",
   "execution_count": 48,
   "metadata": {
    "collapsed": true,
    "jupyter": {
     "outputs_hidden": true
    }
   },
   "outputs": [
    {
     "name": "stdout",
     "output_type": "stream",
     "text": [
      "8\n",
      "64\n",
      "216\n",
      "512\n",
      "1000\n",
      "1728\n",
      "2744\n",
      "4096\n",
      "5832\n",
      "8000\n",
      "10648\n",
      "13824\n",
      "17576\n",
      "21952\n",
      "27000\n",
      "32768\n",
      "39304\n",
      "46656\n",
      "54872\n",
      "64000\n",
      "74088\n",
      "85184\n",
      "97336\n",
      "110592\n",
      "125000\n"
     ]
    }
   ],
   "source": [
    "for x in range(1, 51):\n",
    "    if x % 2 == 0:\n",
    "        print(x**3)"
   ]
  },
  {
   "cell_type": "markdown",
   "metadata": {},
   "source": [
    "#### **Slack**: Use range with a for loop to print each number between 2 and 15 and whether the number is odd or even.  Hint: 9 % 2 == 1"
   ]
  },
  {
   "cell_type": "code",
   "execution_count": null,
   "metadata": {},
   "outputs": [],
   "source": []
  },
  {
   "cell_type": "markdown",
   "metadata": {},
   "source": [
    "---\n",
    "<a id='functions'></a>\n",
    "# FUNctions 🎉\n",
    "---\n",
    "\n",
    "Similar to the way we can use `for` loops as a means of performing repetitive tasks on a series of objects, we can also create functions to perform repetitive tasks. Functions are simply reusable pieces of code. \n",
    "\n",
    "Within a function, we can write a large block of code that performs and action.  Then  we _call_ the function whenever we want to use it.  \n",
    "\n",
    "Functions keep your code **D.R.Y.** = Don't Repeat Yourself!"
   ]
  },
  {
   "cell_type": "markdown",
   "metadata": {},
   "source": [
    "#### Function for printing a shipping charge\n",
    "Consider a program that prints a $5 shipping charge for product ordered.\n",
    "\n",
    "```\n",
    "print(\"You've purchased a Hanging Planter.\")\n",
    "print(\"Thank you for your order. There will be a $5.00 shipping charge.\")\n",
    "```\n",
    "\n",
    "Let's turn this into a function:"
   ]
  },
  {
   "cell_type": "code",
   "execution_count": null,
   "metadata": {
    "ExecuteTime": {
     "end_time": "2020-01-13T03:30:24.967860Z",
     "start_time": "2020-01-13T03:30:24.962873Z"
    }
   },
   "outputs": [],
   "source": []
  },
  {
   "cell_type": "code",
   "execution_count": null,
   "metadata": {
    "ExecuteTime": {
     "end_time": "2020-01-13T03:30:48.282474Z",
     "start_time": "2020-01-13T03:30:48.276491Z"
    }
   },
   "outputs": [],
   "source": []
  },
  {
   "cell_type": "code",
   "execution_count": null,
   "metadata": {
    "ExecuteTime": {
     "end_time": "2020-01-13T03:30:48.282474Z",
     "start_time": "2020-01-13T03:30:48.276491Z"
    }
   },
   "outputs": [],
   "source": []
  },
  {
   "cell_type": "code",
   "execution_count": null,
   "metadata": {
    "ExecuteTime": {
     "end_time": "2020-01-13T03:30:48.282474Z",
     "start_time": "2020-01-13T03:30:48.276491Z"
    }
   },
   "outputs": [],
   "source": []
  },
  {
   "cell_type": "markdown",
   "metadata": {},
   "source": [
    "#### Function to print the results of some math\n",
    "Create a function that takes two numbers as arguments and prints their sum, difference, and product. "
   ]
  },
  {
   "cell_type": "code",
   "execution_count": 1,
   "metadata": {
    "collapsed": true,
    "jupyter": {
     "outputs_hidden": true
    }
   },
   "outputs": [
    {
     "ename": "SyntaxError",
     "evalue": "unexpected EOF while parsing (<ipython-input-1-4f494cbfa35c>, line 3)",
     "output_type": "error",
     "traceback": [
      "\u001b[0;36m  File \u001b[0;32m\"<ipython-input-1-4f494cbfa35c>\"\u001b[0;36m, line \u001b[0;32m3\u001b[0m\n\u001b[0;31m    \u001b[0m\n\u001b[0m    ^\u001b[0m\n\u001b[0;31mSyntaxError\u001b[0m\u001b[0;31m:\u001b[0m unexpected EOF while parsing\n"
     ]
    }
   ],
   "source": [
    "def arithmetic(num1, num2):\n",
    "    \n",
    "    "
   ]
  },
  {
   "cell_type": "code",
   "execution_count": null,
   "metadata": {},
   "outputs": [],
   "source": []
  },
  {
   "cell_type": "markdown",
   "metadata": {},
   "source": [
    "Once we define the function, it will exist until we reset our kernel, close our notebook, or overwrite it."
   ]
  },
  {
   "cell_type": "code",
   "execution_count": null,
   "metadata": {},
   "outputs": [],
   "source": []
  },
  {
   "cell_type": "code",
   "execution_count": null,
   "metadata": {},
   "outputs": [],
   "source": []
  },
  {
   "cell_type": "markdown",
   "metadata": {},
   "source": [
    "### Using \"Return\"\n",
    "\n",
    "Using return allows you to store the output of the function."
   ]
  },
  {
   "cell_type": "code",
   "execution_count": null,
   "metadata": {},
   "outputs": [],
   "source": []
  },
  {
   "cell_type": "code",
   "execution_count": null,
   "metadata": {},
   "outputs": [],
   "source": []
  },
  {
   "cell_type": "code",
   "execution_count": null,
   "metadata": {},
   "outputs": [],
   "source": []
  },
  {
   "cell_type": "code",
   "execution_count": null,
   "metadata": {},
   "outputs": [],
   "source": []
  },
  {
   "cell_type": "code",
   "execution_count": null,
   "metadata": {},
   "outputs": [],
   "source": []
  },
  {
   "cell_type": "code",
   "execution_count": null,
   "metadata": {},
   "outputs": [],
   "source": []
  },
  {
   "cell_type": "code",
   "execution_count": null,
   "metadata": {},
   "outputs": [],
   "source": []
  },
  {
   "cell_type": "markdown",
   "metadata": {},
   "source": [
    "### Parameters\n",
    "Parameters are variables that are declared in the function (the items in parentheses).  For example, in the function below, `price` and `tax_rate` are the two parameters."
   ]
  },
  {
   "cell_type": "code",
   "execution_count": 4,
   "metadata": {
    "ExecuteTime": {
     "end_time": "2020-01-13T03:31:22.281497Z",
     "start_time": "2020-01-13T03:31:22.274515Z"
    }
   },
   "outputs": [],
   "source": [
    "def price_function(price, tax_rate):\n",
    "    \n",
    "    if tax_rate < 1:\n",
    "        final_price = price + (price * tax_rate)\n",
    "    else:\n",
    "        final_price = \"Your tax rate was too high\"\n",
    "    \n",
    "    return final_price"
   ]
  },
  {
   "cell_type": "markdown",
   "metadata": {},
   "source": [
    "### Arguments\n",
    "\n",
    "Arguments are what are given/passed to the function when calling the function. For example, when calling `price_function` below, `1` and `10` are the two arguments. "
   ]
  },
  {
   "cell_type": "code",
   "execution_count": 6,
   "metadata": {
    "ExecuteTime": {
     "end_time": "2020-01-13T03:31:22.281497Z",
     "start_time": "2020-01-13T03:31:22.274515Z"
    }
   },
   "outputs": [
    {
     "data": {
      "text/plain": [
       "'Your tax rate was too high'"
      ]
     },
     "execution_count": 6,
     "metadata": {},
     "output_type": "execute_result"
    }
   ],
   "source": [
    "price_function(1, 10)"
   ]
  },
  {
   "cell_type": "code",
   "execution_count": null,
   "metadata": {
    "ExecuteTime": {
     "end_time": "2020-01-13T03:31:22.281497Z",
     "start_time": "2020-01-13T03:31:22.274515Z"
    }
   },
   "outputs": [],
   "source": []
  },
  {
   "cell_type": "markdown",
   "metadata": {
    "ExecuteTime": {
     "end_time": "2020-01-13T03:34:05.700018Z",
     "start_time": "2020-01-13T03:34:05.694032Z"
    }
   },
   "source": [
    "To see a docstring in a function or class, move your cursor between the `()`.\n",
    "\n",
    "When they turn green hit `shift`+`tab` to see the documentation."
   ]
  },
  {
   "cell_type": "code",
   "execution_count": null,
   "metadata": {},
   "outputs": [],
   "source": []
  },
  {
   "cell_type": "markdown",
   "metadata": {},
   "source": [
    "Your function can have default values for a parameter. "
   ]
  },
  {
   "cell_type": "code",
   "execution_count": null,
   "metadata": {
    "ExecuteTime": {
     "end_time": "2020-01-13T03:34:05.055740Z",
     "start_time": "2020-01-13T03:34:05.050753Z"
    }
   },
   "outputs": [],
   "source": []
  },
  {
   "cell_type": "markdown",
   "metadata": {},
   "source": [
    "You can overrule a default value for a parameter."
   ]
  },
  {
   "cell_type": "code",
   "execution_count": null,
   "metadata": {
    "ExecuteTime": {
     "end_time": "2020-01-13T03:34:05.700018Z",
     "start_time": "2020-01-13T03:34:05.694032Z"
    }
   },
   "outputs": [],
   "source": []
  },
  {
   "cell_type": "code",
   "execution_count": null,
   "metadata": {},
   "outputs": [],
   "source": []
  },
  {
   "cell_type": "markdown",
   "metadata": {},
   "source": [
    "## Function Exercises - in Groups!"
   ]
  },
  {
   "cell_type": "markdown",
   "metadata": {},
   "source": [
    "#### High Low\n",
    "\n",
    "Write a function called `high_low()`, that prints \"High!\" if a variable\n",
    "my_number is greater than 10, and \"Low!\" if it isn't."
   ]
  },
  {
   "cell_type": "code",
   "execution_count": null,
   "metadata": {},
   "outputs": [],
   "source": []
  },
  {
   "cell_type": "code",
   "execution_count": null,
   "metadata": {},
   "outputs": [],
   "source": []
  },
  {
   "cell_type": "markdown",
   "metadata": {},
   "source": [
    "#### Blackjack\n",
    "\n",
    "Write a function called blackjack() with 2 parameters, _dealer_hand_ and _player_hand_.  \n",
    "\n",
    "- If the player_hand is greater than the dealer_hand, the player wins. \n",
    "- If the dealer_hand is greater than the player_hand, the dealer wins.  \n",
    "- However, if any hand is >21 that person loses. \n",
    "- If there is a tie, the result is \"push\".\n",
    "- Return who wins or \"push\" if neither player wins."
   ]
  },
  {
   "cell_type": "code",
   "execution_count": null,
   "metadata": {},
   "outputs": [],
   "source": []
  },
  {
   "cell_type": "code",
   "execution_count": null,
   "metadata": {},
   "outputs": [],
   "source": []
  },
  {
   "cell_type": "markdown",
   "metadata": {},
   "source": [
    "#### FizzBuzz\n",
    "\n",
    "Make a function that takes a number and prints the following:\n",
    "- `Fizz` if the nubmer is divisible by 5 but not 9\n",
    "- `Buzz` if the number is divisible by 9 but not 5\n",
    "- `FizzBuzz` if the number is divisible by 5 and 9"
   ]
  },
  {
   "cell_type": "code",
   "execution_count": null,
   "metadata": {},
   "outputs": [],
   "source": []
  },
  {
   "cell_type": "markdown",
   "metadata": {},
   "source": [
    "#### Thanks a Latte\n",
    "Imagine that you are tasked with creating a program to calculate the total amount, including sales tax, for each item at a coffee shop.\n",
    "\n",
    "Consider the following 2 functions.\n",
    "\n",
    "```\n",
    "def latte_total():\n",
    "    price = 5.50\n",
    "    sales_tax_rate = .10\n",
    "    total_amount = price + (price * sales_tax_rate)\n",
    "    print(f\"The total is $ {total_amount}\")\n",
    "\n",
    "latte_total()\n",
    "\n",
    "def americano_total():\n",
    "    price = 4.75\n",
    "    sales_tax_rate = .10\n",
    "    total_amount = price + (price * sales_tax_rate)\n",
    "    print(f\"The total is $ {total_amount}\")\n",
    "\n",
    "americano_total()\n",
    "```"
   ]
  },
  {
   "cell_type": "markdown",
   "metadata": {},
   "source": [
    "#### Now make a function that is flexible enough for any product.  \n",
    "Have your function print both the product name and the total amount in one sentence."
   ]
  },
  {
   "cell_type": "code",
   "execution_count": 1,
   "metadata": {},
   "outputs": [],
   "source": [
    "def latte_total():\n",
    "    price = 5.50\n",
    "    sales_tax_rate = .10\n",
    "    total_amount = price + (price * sales_tax_rate)\n",
    "    print(f\"The total is $ {total_amount}\")"
   ]
  },
  {
   "cell_type": "code",
   "execution_count": 3,
   "metadata": {},
   "outputs": [
    {
     "ename": "TypeError",
     "evalue": "latte_total() got an unexpected keyword argument 'price'",
     "output_type": "error",
     "traceback": [
      "\u001b[0;31m---------------------------------------------------------------------------\u001b[0m",
      "\u001b[0;31mTypeError\u001b[0m                                 Traceback (most recent call last)",
      "\u001b[0;32m<ipython-input-3-726ad10baf04>\u001b[0m in \u001b[0;36m<module>\u001b[0;34m\u001b[0m\n\u001b[0;32m----> 1\u001b[0;31m \u001b[0mlatte_total\u001b[0m\u001b[0;34m(\u001b[0m\u001b[0mprice\u001b[0m \u001b[0;34m=\u001b[0m \u001b[0;36m6\u001b[0m\u001b[0;34m)\u001b[0m\u001b[0;34m\u001b[0m\u001b[0;34m\u001b[0m\u001b[0m\n\u001b[0m",
      "\u001b[0;31mTypeError\u001b[0m: latte_total() got an unexpected keyword argument 'price'"
     ]
    }
   ],
   "source": [
    "latte_total()"
   ]
  },
  {
   "cell_type": "markdown",
   "metadata": {},
   "source": [
    "\n",
    "<a name=\"conclusion\"></a>\n",
    "## Lesson Summary\n",
    "\n",
    "\n",
    "Let's review what we learned. We:\n",
    "\n",
    "- Reviewed `Python` control flow and conditional programming. \n",
    "- Implemented `for` loops to iterate through data structures.\n",
    "- Applied `if… else` conditional statements.\n",
    "- Created functions to perform repetitive actions.\n",
    "- Combined control flow and conditional statements to solve the classic \"FizzBuzz\" code challenge.\n",
    "\n",
    "\n",
    "### Check for understanding\n",
    "\n",
    "- How do you make a default value for a function parameter?\n",
    "- What does `range` do?\n",
    "- How do you check three conditions in an `if` statement?\n"
   ]
  },
  {
   "cell_type": "code",
   "execution_count": null,
   "metadata": {},
   "outputs": [],
   "source": []
  }
 ],
 "metadata": {
  "anaconda-cloud": {},
  "kernelspec": {
   "display_name": "Python 3",
   "language": "python",
   "name": "python3"
  },
  "language_info": {
   "codemirror_mode": {
    "name": "ipython",
    "version": 3
   },
   "file_extension": ".py",
   "mimetype": "text/x-python",
   "name": "python",
   "nbconvert_exporter": "python",
   "pygments_lexer": "ipython3",
   "version": "3.8.8"
  }
 },
 "nbformat": 4,
 "nbformat_minor": 4
}
